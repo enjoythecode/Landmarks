{
 "cells": [
  {
   "cell_type": "markdown",
   "metadata": {},
   "source": [
    "## New Experimental Approach\n",
    "\n",
    "#### generating trials  \n",
    "-> each trial consists of multiple objects, and a final location for the pointing task\n",
    " - the trials are configured with the `config` variable\n",
    "   - there OBJECT_PER_TRIAL objects per trial + another location for the pointing task\n",
    "   - each trial is configured with;\n",
    "     - the distance between the objects as determined with a range, specific to trial configuration.what kind of experimental controls?  \n",
    "     - whether the trial includes crossing the boundary (same setting for all objects within)  \n",
    "       - [] validate that there actually is at least one crossing, if crossing is allowed\n",
    "     - border visibility for the trial, specified for the entire trial (not individual movements)\n",
    "       - [] add this in\n",
    " - we do not keep any distances discrete\n",
    "   - real world includes noise; for now we are assuming that these variables will be continuous. Therefore,\n",
    "   - [] we will want to verify that our distances have consistent means and variances.\n",
    " - [] validate that the pointing ground-truth is above a threshold (> 0.5m)\n",
    " \n",
    "    \n",
    "#### object display\n",
    "- participant moves from target to target, revealing the next one each time\n",
    " - the object is always visible. if it is on the other side & blocked by boundary, they will know because they won't be able to see it\n",
    "- objects are the same geometrical shapes of different colors\n",
    "  - make sure that the colors are color-friendly\n",
    "      - [] pick a good color scheme\n",
    "      - [] ask participants about color-blindness\n",
    "  - vary shape and color from a random pool\n",
    "    - this increases performance in recall, so that we can actually measure the distance bias\n",
    "    - [] create a pool of different shapes and colors\n",
    "    - [] pick randomly for each object\n",
    "      - [] between participants, look into keeping the seed same\n",
    "   \n",
    "- [] investigate potential interference effect from proximity:\n",
    "  - what's the average distance for the nth object?\n",
    "\n",
    "#### pointing task / data collection / data analysis\n",
    "- we want to control for the time and distance elapsed when moving, as well as the time taken for pointing\n",
    "  - time taken pointing as a potential proxy for confidence?  \n",
    " \n",
    "- we cue the participant for the object to recall\n",
    "  - pointing task already has the participant inputting data by moving a pseudo-object\n",
    "    - [] change this to the object that they actually saw \n",
    "  - we ask about the objects in a random permutation order\n",
    "    - we can investigate recency & primacy already, permutation order could enhance or diminish those effects, look into it during analysis.\n",
    "    \n",
    "- [] make list of all variables we will be tracking during the analysis.\n",
    "\n",
    "#### implementation\n",
    "[ ] look into the unity implementation and think about how we can integrate these changes there\n",
    "    [ ] if possible, start revamping the experiment to follow this approach with some dummy testing trials  "
   ]
  },
  {
   "cell_type": "code",
   "execution_count": 114,
   "metadata": {},
   "outputs": [],
   "source": [
    "import random\n",
    "import math\n",
    "import matplotlib.pyplot as plt\n",
    "import time\n",
    "import numpy as np"
   ]
  },
  {
   "cell_type": "code",
   "execution_count": 241,
   "metadata": {},
   "outputs": [],
   "source": [
    "OBJECT_PER_TRIAL = 5\n",
    "\n",
    "WIDTH = 4\n",
    "LENGTH = 6 # boundary is half-way within length\n",
    "\n",
    "PLOT_INDIVIDUAL = True\n",
    "PLOT_ALL = True"
   ]
  },
  {
   "cell_type": "code",
   "execution_count": 242,
   "metadata": {},
   "outputs": [
    {
     "data": {
      "text/plain": [
       "5.0"
      ]
     },
     "execution_count": 242,
     "metadata": {},
     "output_type": "execute_result"
    }
   ],
   "source": [
    "# define Point class that will provide some methods of convenience\n",
    "class Point():\n",
    "    def __init__(self, x = None, y = None):\n",
    "        self.x = x\n",
    "        self.y = y\n",
    "        \n",
    "    def __sub__(self, other):\n",
    "        if not isinstance(other, Point):\n",
    "            return NotImplementedError()\n",
    "        else:\n",
    "            return Point(self.x - other.x, self.y - other.y)\n",
    "        \n",
    "    def __add__(self, other):\n",
    "        if not isinstance(other, Point):\n",
    "            return NotImplementedError()\n",
    "        else:\n",
    "            return Point(self.x + other.x, self.y + other.y)\n",
    "        \n",
    "    def __repr__(self):\n",
    "        return \"P(\" + str(round(self.x, 2)) + \", \" + str(round(self.y, 2)) + \")\"\n",
    "        \n",
    "    def dist(self, other):\n",
    "        diff = self - other\n",
    "        return diff.magnitude()\n",
    "    \n",
    "    def magnitude(self):\n",
    "        return (self.x**2 + self.y**2) ** 0.5\n",
    "    \n",
    "    @staticmethod\n",
    "    def random_circ(dist = 1):\n",
    "        '''\n",
    "        generates a random point with the given distance\n",
    "        defaults to dist = 1 if no distance (on unit circle)\n",
    "        '''\n",
    "        theta = random.random() * 360\n",
    "        x = math.cos(theta) * dist\n",
    "        y = math.sin(theta) * dist\n",
    "        \n",
    "        return Point(x, y)\n",
    "\n",
    "    @staticmethod\n",
    "    def random_rect(w = WIDTH, l = LENGTH):\n",
    "        x = random.random() * w\n",
    "        y = random.random() * l\n",
    "        \n",
    "        return Point(x, y)\n",
    "        \n",
    "\n",
    "# test distance and __sub__ functionality (dist uses __sub__)\n",
    "p1 = Point(0,0)\n",
    "p2 = Point(3,4)\n",
    "p1.dist(p2)"
   ]
  },
  {
   "cell_type": "code",
   "execution_count": 249,
   "metadata": {},
   "outputs": [],
   "source": [
    "def generate_rand_movement(distance, start = None):\n",
    "    \n",
    "    if not start: # no start point given, generate within the rectangle\n",
    "        start = Point.random_rect()\n",
    "        \n",
    "    end = start + Point.random_circ(distance)\n",
    "    return (start, end)\n",
    "\n",
    "def validate_movement(start, end, cross, hasBorder):\n",
    "    buffer = 0.05\n",
    "    x_lo = buffer * width\n",
    "    x_hi = (1 - buffer) * width\n",
    "    \n",
    "    y_lo = buffer * length\n",
    "    y_hi = (1 - buffer) * length\n",
    "    \n",
    "    border_lo = (length / 2) - length * buffer\n",
    "    border_hi = (length / 2) + length * buffer\n",
    "    \n",
    "    mid_y = length / 2\n",
    "    \n",
    "    isOnSameSide = (start.y >= mid_y) == (end.y >= mid_y)\n",
    "    \n",
    "    crossIsCorrect = (isOnSameSide != cross)\n",
    "    \n",
    "    bufferFromBoundary = (x_lo < start.x < x_hi) and (x_lo < end.x < x_hi) and (y_lo < start.y < y_hi) and (y_lo < end.y < y_hi)\n",
    "    bufferFromBorder = not hasBorder or not (border_lo < start.y < border_hi or border_lo < end.y < border_hi)\n",
    "    \n",
    "    # debug\n",
    "    #print(start, end)\n",
    "    #print(isOnSameSide, cross, crossIsCorrect, start.y >= mid_y, end.y >= mid_y)\n",
    "    #print(crossIsCorrect , bufferFromBoundary , bufferFromBorder)\n",
    "    \n",
    "    return crossIsCorrect and bufferFromBoundary and bufferFromBorder\n",
    "\n",
    "def generate_valid_movement(dist_min, dist_max, cross, hasBorder, start_from = None):\n",
    "    tries = 0\n",
    "    max_tries = 10000\n",
    "    \n",
    "    while tries < max_tries:\n",
    "        distance = random.random() * (dist_max - dist_min) + dist_min\n",
    "        start, end = generate_rand_movement(distance, start_from)\n",
    "        tries += 1\n",
    "        \n",
    "        if validate_movement(start, end, cross, hasBorder):\n",
    "            print(start, end, validate_movement(start, end, cross, hasBorder))\n",
    "            return [start, end]\n",
    "        \n",
    "    print(distance, cross, \" failed after \", tries , \" tries\")\n",
    "    \n",
    "def generate_valid_trial(dist_min, dist_max, crossBoundary, n = OBJECT_PER_TRIAL,):\n",
    "\n",
    "    prev = None\n",
    "    trial = []\n",
    "    \n",
    "    for obj in range(n-1 + 1): # we add another point at the end for the location from which they'll point to the objects\n",
    "        # placeholder until we find what specific distance we would like to find\n",
    "        random_border = random.random() > 0.5\n",
    "        \n",
    "        start, end = generate_valid_movement(dist_min, dist_max, crossBoundary, random_border, prev)\n",
    "        if not prev:\n",
    "            trial.append(start)\n",
    "            \n",
    "        trial.append(end)\n",
    "        prev = end\n",
    "    return trial"
   ]
  },
  {
   "cell_type": "code",
   "execution_count": 255,
   "metadata": {
    "scrolled": true
   },
   "outputs": [
    {
     "name": "stdout",
     "output_type": "stream",
     "text": [
      "P(3.61, 2.56) P(2.74, 1.65) True\n",
      "P(2.74, 1.65) P(1.72, 1.48) True\n",
      "P(1.72, 1.48) P(2.9, 0.48) True\n",
      "P(2.9, 0.48) P(2.06, 0.98) True\n",
      "P(2.06, 0.98) P(3.39, 1.5) True\n",
      "P(1.68, 0.85) P(0.34, 0.83) True\n",
      "P(0.34, 0.83) P(0.98, 2.05) True\n",
      "P(0.98, 2.05) P(1.38, 0.37) True\n",
      "P(1.38, 0.37) P(2.12, 1.61) True\n",
      "P(2.12, 1.61) P(3.45, 1.78) True\n",
      "P(3.61, 3.07) P(1.07, 1.24) True\n",
      "P(1.07, 1.24) P(0.36, 4.72) True\n",
      "P(0.36, 4.72) P(0.69, 2.49) True\n",
      "P(0.69, 2.49) P(3.32, 3.35) True\n",
      "P(3.32, 3.35) P(1.7, 1.8) True\n",
      "P(0.58, 2.08) P(0.97, 3.77) True\n",
      "P(0.97, 3.77) P(1.77, 1.21) True\n",
      "P(1.77, 1.21) P(1.92, 3.66) True\n",
      "P(1.92, 3.66) P(0.46, 1.08) True\n",
      "P(0.46, 1.08) P(1.76, 3.11) True\n"
     ]
    },
    {
     "data": {
      "text/plain": [
       "[[P(3.61, 2.56),\n",
       "  P(2.74, 1.65),\n",
       "  P(1.72, 1.48),\n",
       "  P(2.9, 0.48),\n",
       "  P(2.06, 0.98),\n",
       "  P(3.39, 1.5)],\n",
       " [P(1.68, 0.85),\n",
       "  P(0.34, 0.83),\n",
       "  P(0.98, 2.05),\n",
       "  P(1.38, 0.37),\n",
       "  P(2.12, 1.61),\n",
       "  P(3.45, 1.78)],\n",
       " [P(3.61, 3.07),\n",
       "  P(1.07, 1.24),\n",
       "  P(0.36, 4.72),\n",
       "  P(0.69, 2.49),\n",
       "  P(3.32, 3.35),\n",
       "  P(1.7, 1.8)],\n",
       " [P(0.58, 2.08),\n",
       "  P(0.97, 3.77),\n",
       "  P(1.77, 1.21),\n",
       "  P(1.92, 3.66),\n",
       "  P(0.46, 1.08),\n",
       "  P(1.76, 3.11)]]"
      ]
     },
     "execution_count": 255,
     "metadata": {},
     "output_type": "execute_result"
    }
   ],
   "source": [
    "config = {\n",
    "    \"trials\": [\n",
    "        { # within boundary\n",
    "            \"distanceMin\": 0.9,\n",
    "            \"distanceMax\": 1.8,\n",
    "            \"crossBoundary\": \"False\",\n",
    "            \"count\": 2\n",
    "        },\n",
    "        { # across boundary\n",
    "            \"distanceMin\": 1.5,\n",
    "            \"distanceMax\": 4,\n",
    "            \"crossBoundary\": \"True\",\n",
    "            \"count\": 2\n",
    "        }\n",
    "    ]\n",
    "}\n",
    "\n",
    "trials = [] # a trial is a set of points, with the last one being where predictions are made from\n",
    "\n",
    "for cfg_trial in config[\"trials\"]:\n",
    "    for cfg_trial_i in range(cfg_trial[\"count\"]):\n",
    "        trials.append(generate_valid_trial(cfg_trial[\"distanceMin\"], cfg_trial[\"distanceMax\"], cfg_trial[\"crossBoundary\"] == \"True\"))\n",
    "trials"
   ]
  },
  {
   "cell_type": "code",
   "execution_count": 256,
   "metadata": {},
   "outputs": [
    {
     "data": {
      "image/png": "[encoded data removed]",
      "text/plain": [
       "<Figure size 288x432 with 1 Axes>"
      ]
     },
     "metadata": {
      "needs_background": "light"
     },
     "output_type": "display_data"
    },
    {
     "data": {
      "image/png": "[encoded data removed]",
      "text/plain": [
       "<Figure size 288x432 with 1 Axes>"
      ]
     },
     "metadata": {
      "needs_background": "light"
     },
     "output_type": "display_data"
    },
    {
     "data": {
      "image/png": "[encoded data removed]",
      "text/plain": [
       "<Figure size 288x432 with 1 Axes>"
      ]
     },
     "metadata": {
      "needs_background": "light"
     },
     "output_type": "display_data"
    },
    {
     "data": {
      "image/png": "[encoded data removed]",
      "text/plain": [
       "<Figure size 288x432 with 1 Axes>"
      ]
     },
     "metadata": {
      "needs_background": "light"
     },
     "output_type": "display_data"
    }
   ],
   "source": [
    "def plot_trial(trial):\n",
    "    fig, ax = plt.subplots(figsize=(width, length))\n",
    "    \n",
    "    prev = trial[0]\n",
    "    for curr in trial[1:]:\n",
    "        plt.plot([prev.x,curr.x], [prev.y,curr.y])\n",
    "        prev = curr\n",
    "\n",
    "    # plot the border in any case\n",
    "    plt.plot([0, width],[length/2, length/2], \"k-\")\n",
    "    \n",
    "    plt.xlim(0, width)\n",
    "    plt.ylim(0, length)\n",
    "    plt.show()\n",
    "    \n",
    "for trial in trials:\n",
    "    plot_trial(trial)\n",
    "          \n",
    "#    \n",
    "#if PLOT_ALL:\n",
    "    # plot all together\n",
    "    \n",
    "   # fig, ax = plt.subplots(figsize=(width, length))\n",
    "   # plt.xlim([0, width])\n",
    "   # plt.ylim([0, length])\n",
    "   # for trial in trials:\n",
    "   #     x,y,v,w = tuple(trial[:4])\n",
    "   #     ax.plot([x,v], [y,w])\n",
    "   # plt.plot([0, width],[length/2, length/2], \"--r\")\n",
    "   # plt.show()"
   ]
  }
 ],
 "metadata": {
  "kernelspec": {
   "display_name": "Python 3",
   "language": "python",
   "name": "python3"
  },
  "language_info": {
   "codemirror_mode": {
    "name": "ipython",
    "version": 3
   },
   "file_extension": ".py",
   "mimetype": "text/x-python",
   "name": "python",
   "nbconvert_exporter": "python",
   "pygments_lexer": "ipython3",
   "version": "3.8.5"
  }
 },
 "nbformat": 4,
 "nbformat_minor": 5
}
