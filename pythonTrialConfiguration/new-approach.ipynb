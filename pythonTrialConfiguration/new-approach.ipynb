{
 "cells": [
  {
   "cell_type": "markdown",
   "metadata": {},
   "source": [
    "## New Experimental Approach\n",
    "\n",
    "#### generating trials  \n",
    "-> each trial consists of multiple objects, and a final location for the pointing task\n",
    " - the trials are configured with the `config` variable\n",
    "   - there OBJECT_PER_TRIAL objects per trial + another location for the pointing task\n",
    "   - each trial is configured with;\n",
    "     - the distance between the objects as determined with a range, specific to trial configuration.what kind of experimental controls?  \n",
    "     - whether the trial includes crossing the boundary (same setting for all objects within)  \n",
    "       - we validate that there actually is at least one crossing, if crossing is allowed (specific number configured with MIN_CROSSINGS_IF_ENABLED)\n",
    "     - border visibility for the trial, specified for the entire trial (not individual movements)\n",
    "       - this is configured using \"countWithBoundary\", where there will be that many (N) trials of the same spec with a boundary visible, and (count - N) w/o border visibility\n",
    " - we do not keep any distances discrete\n",
    "   - real world includes noise; for now we are assuming that these variables will be continuous. Therefore,\n",
    "   - we have a record of all distances *between objects* (movement distance)\n",
    "       - we had said: \"we will want to verify that our distances have consistent means and variances.\"\n",
    "           - what does this look like (what report, graph etc. is needed? what is \"good\"? what is \"bad\"?)\n",
    "           - do we want to also do this for pointing ground-truth? (probably!)\n",
    " - we validate that the pointing ground-truth is above a threshold (> PTOTASK_GROUND_TRUTH_LOWER_BOUND)\n",
    "    \n",
    "#### object display\n",
    "- participant moves from target to target, revealing the next one each time\n",
    " - the object is always visible. if it is on the other side & blocked by boundary, they will know because they won't be able to see it\n",
    "- objects are the same geometrical shapes of different colors\n",
    "  - make sure that the colors are color-friendly\n",
    "      - [] pick a good color scheme\n",
    "      - [] ask participants about color-blindness\n",
    "  - vary shape and color from a random pool\n",
    "    - this increases performance in recall, so that we can actually measure the distance bias\n",
    "    - [] create a pool of different shapes and colors\n",
    "    - [] pick randomly for each object\n",
    "      - [] between participants, look into keeping the seed same\n",
    "   \n",
    "\n",
    "\n",
    "#### pointing task / data collection / data analysis\n",
    "- we want to control for the time and distance elapsed when moving, as well as the time taken for pointing\n",
    "  - time taken pointing as a potential proxy for confidence?  \n",
    " \n",
    "- we cue the participant for the object to recall\n",
    "  - pointing task already has the participant inputting data by moving a pseudo-object\n",
    "    - [] change this to the object that they actually saw \n",
    "  - we ask about the objects in a random permutation order\n",
    "    - we can investigate recency & primacy already, permutation order could enhance or diminish those effects, look into it during analysis.\n",
    "    \n",
    "- [] make list of all variables we will be tracking during the analysis\n",
    "  \n",
    "  \n",
    "Data Control: Use 2D np.array for this  \n",
    "- [] aggregate the histogram over all trials for pair-wise distances\n",
    "  - let's us see the overall distribution (mean, median, variance, skew - if any) of the distances.\n",
    "  - compare the distribution of within- and across-boundary cases: side-by-side box plot.\n",
    "  \n",
    "- [] generate similar aggregated histogram for ground-truth distances\n",
    "  - one for all the ground-truths\n",
    "  - compare the distribution of within- and across-boundary cases: side-by-side box plot.\n",
    "  - compare the distribution across {1,2,...n}th object within: side-by-side box plot.\n",
    "      - [] investigate potential interference effect from proximity: (due to our random generation, later points might end up having smaller ground-truth values, and we would like to prevent any potential interference due to this!)\n",
    "\n",
    "#### implementation\n",
    "[ ] look into the unity implementation and think about how we can integrate these changes there\n",
    "    [ ] if possible, start revamping the experiment to follow this approach with some dummy testing trials\n",
    "   \n",
    " - [] think about export format from this scripts - CSV that we read from the Unity"
   ]
  },
  {
   "cell_type": "code",
   "execution_count": 2,
   "metadata": {},
   "outputs": [],
   "source": [
    "import random\n",
    "import math\n",
    "import matplotlib.pyplot as plt\n",
    "import time\n",
    "import numpy as np"
   ]
  },
  {
   "cell_type": "code",
   "execution_count": 3,
   "metadata": {},
   "outputs": [],
   "source": [
    "OBJECT_PER_TRIAL = 5\n",
    "MIN_CROSSINGS_IF_ENABLED = 1\n",
    "PTOTASK_GROUND_TRUTH_LOWER_BOUND = 0.5\n",
    "\n",
    "WIDTH = 4\n",
    "LENGTH = 6 # boundary is half-way within length\n",
    "\n",
    "PLOT_INDIVIDUAL = True\n",
    "PLOT_ALL = True"
   ]
  },
  {
   "cell_type": "code",
   "execution_count": 4,
   "metadata": {},
   "outputs": [
    {
     "data": {
      "text/plain": [
       "5.0"
      ]
     },
     "execution_count": 4,
     "metadata": {},
     "output_type": "execute_result"
    }
   ],
   "source": [
    "# define Point class that will provide some methods of convenience\n",
    "class Point():\n",
    "    def __init__(self, x = None, y = None):\n",
    "        self.x = x\n",
    "        self.y = y\n",
    "        \n",
    "    def __sub__(self, other):\n",
    "        if not isinstance(other, Point):\n",
    "            return NotImplementedError()\n",
    "        else:\n",
    "            return Point(self.x - other.x, self.y - other.y)\n",
    "        \n",
    "    def __add__(self, other):\n",
    "        if not isinstance(other, Point):\n",
    "            return NotImplementedError()\n",
    "        else:\n",
    "            return Point(self.x + other.x, self.y + other.y)\n",
    "        \n",
    "    def __repr__(self):\n",
    "        return \"P(\" + str(round(self.x, 2)) + \", \" + str(round(self.y, 2)) + \")\"\n",
    "        \n",
    "    def dist(self, other):\n",
    "        diff = self - other\n",
    "        return diff.magnitude()\n",
    "    \n",
    "    def magnitude(self):\n",
    "        return (self.x**2 + self.y**2) ** 0.5\n",
    "    \n",
    "    @staticmethod\n",
    "    def random_circ(dist = 1):\n",
    "        '''\n",
    "        generates a random point with the given distance\n",
    "        defaults to dist = 1 if no distance (on unit circle)\n",
    "        '''\n",
    "        theta = random.random() * 360\n",
    "        x = math.cos(theta) * dist\n",
    "        y = math.sin(theta) * dist\n",
    "        \n",
    "        return Point(x, y)\n",
    "\n",
    "    @staticmethod\n",
    "    def random_rect(w = WIDTH, l = LENGTH):\n",
    "        x = random.random() * w\n",
    "        y = random.random() * l\n",
    "        \n",
    "        return Point(x, y)\n",
    "        \n",
    "\n",
    "# test distance and __sub__ functionality (dist uses __sub__)\n",
    "p1 = Point(0,0)\n",
    "p2 = Point(3,4)\n",
    "p1.dist(p2)"
   ]
  },
  {
   "cell_type": "code",
   "execution_count": 5,
   "metadata": {},
   "outputs": [],
   "source": [
    "def generate_rand_movement(distance, start = None):\n",
    "    \n",
    "    if not start: # no start point given, generate within the rectangle\n",
    "        start = Point.random_rect()\n",
    "        \n",
    "    end = start + Point.random_circ(distance)\n",
    "    return (start, end)\n",
    "\n",
    "def pointsOnSameSide(p1, p2):\n",
    "    mid_y = LENGTH / 2\n",
    "    \n",
    "    return (p1.y >= mid_y) == (p2.y >= mid_y)\n",
    "\n",
    "def distances_between_objects(objs):\n",
    "    trial_dists = []\n",
    "    \n",
    "    for i in range(len(objs)-1):\n",
    "        trial_dists.append(objs[i].dist(objs[i+1]))\n",
    "        \n",
    "    return trial_dists\n",
    "\n",
    "def validate_movement(start, end, cross, hasBorder):\n",
    "    buffer = 0.05\n",
    "    x_lo = buffer * WIDTH\n",
    "    x_hi = (1 - buffer) * WIDTH\n",
    "    \n",
    "    y_lo = buffer * LENGTH\n",
    "    y_hi = (1 - buffer) * LENGTH\n",
    "    \n",
    "    border_lo = (LENGTH / 2) - LENGTH * buffer\n",
    "    border_hi = (LENGTH / 2) + LENGTH * buffer\n",
    "    \n",
    "    isOnSameSide = pointsOnSameSide(start, end)\n",
    "    \n",
    "    crossIsCorrect = (isOnSameSide != cross)\n",
    "    \n",
    "    bufferFromBoundary = (x_lo < start.x < x_hi) and (x_lo < end.x < x_hi) and (y_lo < start.y < y_hi) and (y_lo < end.y < y_hi)\n",
    "    bufferFromBorder = not hasBorder or not (border_lo < start.y < border_hi or border_lo < end.y < border_hi)\n",
    "    \n",
    "    return crossIsCorrect and bufferFromBoundary and bufferFromBorder\n",
    "\n",
    "def generate_valid_movement(dist_min, dist_max, cross, hasBorder, start_from = None):\n",
    "    tries = 0\n",
    "    max_tries = 10000\n",
    "    \n",
    "    while tries < max_tries:\n",
    "        distance = random.random() * (dist_max - dist_min) + dist_min\n",
    "        start, end = generate_rand_movement(distance, start_from)\n",
    "        tries += 1\n",
    "        \n",
    "        if validate_movement(start, end, cross, hasBorder):\n",
    "            return [start, end]\n",
    "        \n",
    "    print(\"valid movement failed after \", tries , \" tries\")\n",
    "    return None, None # if no valid movement, return None so that it can be handled\n"
   ]
  },
  {
   "cell_type": "code",
   "execution_count": 6,
   "metadata": {},
   "outputs": [],
   "source": [
    "def generate_random_trial(dist_min, dist_max, crossBoundary):\n",
    "\n",
    "    prev = None\n",
    "    trial = []\n",
    "    \n",
    "    for obj in range(OBJECT_PER_TRIAL-1 + 1): # we add another point at the end for the location from which they'll point to the objects\n",
    "        # placeholder until we find what specific distance we would like to find\n",
    "        random_border = random.random() > 0.5\n",
    "        \n",
    "        start, end = generate_valid_movement(dist_min, dist_max, crossBoundary, random_border, prev)\n",
    "        if start is None:\n",
    "            return None\n",
    "        if not prev:\n",
    "            trial.append(start)\n",
    "            \n",
    "        trial.append(end)\n",
    "        prev = end\n",
    "    return trial\n",
    "\n",
    "def validate_trial(trial, crossBoundary):\n",
    "    if not trial: # if we failed, trial will be null\n",
    "        return False\n",
    "    # check if number of boundary crossings is more than 0, if there is supposed to be a crossing\n",
    "    if crossBoundary:\n",
    "        crossings = 0\n",
    "        for i in range(len(trial) - 1):\n",
    "            if not pointsOnSameSide(trial[i], trial[i+1]):\n",
    "                crossings += 1\n",
    "            \n",
    "        if crossings < MIN_CROSSINGS_IF_ENABLED:\n",
    "            return False\n",
    "        \n",
    "    # validate that no ground-truth is less than our lower bound\n",
    "    pointing_from = trial[-1]\n",
    "    for t in trial[:-1]:\n",
    "        if pointing_from.dist(t) < PTOTASK_GROUND_TRUTH_LOWER_BOUND:\n",
    "            return False\n",
    "    \n",
    "    return True\n",
    "\n",
    "def generate_valid_trial(dist_min, dist_max, crossBoundary):\n",
    "    tries = 0\n",
    "    max_tries = 1000\n",
    "    while tries < max_tries:\n",
    "        tries += 1\n",
    "        \n",
    "        rand_trial = generate_random_trial(dist_min, dist_max, crossBoundary)\n",
    "        if validate_trial(rand_trial, crossBoundary):\n",
    "            return rand_trial\n",
    "    print(f\"valid trial failed after {tries} tries\")\n"
   ]
  },
  {
   "cell_type": "code",
   "execution_count": 7,
   "metadata": {
    "scrolled": true
   },
   "outputs": [
    {
     "name": "stdout",
     "output_type": "stream",
     "text": [
      "valid movement failed after  10000  tries\n"
     ]
    },
    {
     "data": {
      "text/plain": [
       "[{'objects': [P(1.07, 1.26),\n",
       "   P(1.08, 2.36),\n",
       "   P(0.87, 1.09),\n",
       "   P(1.85, 0.51),\n",
       "   P(0.95, 1.36),\n",
       "   P(2.24, 1.83)],\n",
       "  'boundVis': True},\n",
       " {'objects': [P(1.78, 3.52),\n",
       "   P(2.46, 4.43),\n",
       "   P(2.01, 5.23),\n",
       "   P(1.54, 3.91),\n",
       "   P(2.54, 3.89),\n",
       "   P(0.97, 3.36)],\n",
       "  'boundVis': False},\n",
       " {'objects': [P(2.45, 2.56),\n",
       "   P(3.43, 4.07),\n",
       "   P(0.87, 2.37),\n",
       "   P(2.72, 5.21),\n",
       "   P(1.58, 1.58),\n",
       "   P(2.94, 3.74)],\n",
       "  'boundVis': True},\n",
       " {'objects': [P(2.87, 1.4),\n",
       "   P(2.31, 3.48),\n",
       "   P(1.86, 1.19),\n",
       "   P(1.71, 3.5),\n",
       "   P(2.7, 1.86),\n",
       "   P(3.33, 5.66)],\n",
       "  'boundVis': False}]"
      ]
     },
     "execution_count": 7,
     "metadata": {},
     "output_type": "execute_result"
    }
   ],
   "source": [
    "config = {\n",
    "    \"trials\": [\n",
    "        { # within boundary\n",
    "            \"distanceMin\": 0.9,\n",
    "            \"distanceMax\": 1.8,\n",
    "            \"crossBoundary\": \"False\",\n",
    "            \"count\": 2,\n",
    "            \"countWithBoundary\": 1\n",
    "        },\n",
    "        { # across boundary\n",
    "            \"distanceMin\": 1.5,\n",
    "            \"distanceMax\": 4,\n",
    "            \"crossBoundary\": \"True\",\n",
    "            \"count\": 2,\n",
    "            \"countWithBoundary\": 1\n",
    "        }\n",
    "    ]\n",
    "}\n",
    "\n",
    "trials = [] # a trial is a set of points, with the last one being where predictions are made from\n",
    "\n",
    "for cfg_trial in config[\"trials\"]:\n",
    "    for cfg_trial_i in range(cfg_trial[\"count\"]):\n",
    "        d_min = cfg_trial[\"distanceMin\"]\n",
    "        d_max = cfg_trial[\"distanceMax\"]\n",
    "        c_bounds =  cfg_trial[\"crossBoundary\"] == \"True\"\n",
    "        bounds_viz = cfg_trial_i < cfg_trial[\"countWithBoundary\"]\n",
    "        trials.append({\n",
    "            \"objects\": generate_valid_trial(d_min, d_max,c_bounds),\n",
    "            \"boundVis\": bounds_viz\n",
    "        })\n",
    "trials"
   ]
  },
  {
   "cell_type": "code",
   "execution_count": 8,
   "metadata": {
    "scrolled": true
   },
   "outputs": [
    {
     "name": "stdout",
     "output_type": "stream",
     "text": [
      "Mean:1.2296018851506827 Median:1.2385693396855997 Range: 0.2716014761001675 Stdev: 0.09839284857545956\n"
     ]
    },
    {
     "data": {
      "image/png": "[encoded data removed]",
      "text/plain": [
       "<Figure size 576x432 with 2 Axes>"
      ]
     },
     "metadata": {
      "needs_background": "light"
     },
     "output_type": "display_data"
    },
    {
     "name": "stdout",
     "output_type": "stream",
     "text": [
      "Mean:1.222813723501324 Median:1.135888512891905 Range: 0.7415948680177524 Stdev: 0.27295677683927116\n"
     ]
    },
    {
     "data": {
      "image/png": "[encoded data removed]",
      "text/plain": [
       "<Figure size 576x432 with 2 Axes>"
      ]
     },
     "metadata": {
      "needs_background": "light"
     },
     "output_type": "display_data"
    },
    {
     "name": "stdout",
     "output_type": "stream",
     "text": [
      "Mean:2.9272267649012798 Median:3.084759511160807 Range: 1.9982923795455683 Stdev: 0.695332888687818\n"
     ]
    },
    {
     "data": {
      "image/png": "[encoded data removed]",
      "text/plain": [
       "<Figure size 576x432 with 2 Axes>"
      ]
     },
     "metadata": {
      "needs_background": "light"
     },
     "output_type": "display_data"
    },
    {
     "name": "stdout",
     "output_type": "stream",
     "text": [
      "Mean:2.512626213592281 Median:2.3143466874908425 Range: 1.9302349033190656 Stdev: 0.6852643887405194\n"
     ]
    },
    {
     "data": {
      "image/png": "[encoded data removed]",
      "text/plain": [
       "<Figure size 576x432 with 2 Axes>"
      ]
     },
     "metadata": {
      "needs_background": "light"
     },
     "output_type": "display_data"
    },
    {
     "ename": "NameError",
     "evalue": "name 'dist_data' is not defined",
     "output_type": "error",
     "traceback": [
      "\u001b[0;31m---------------------------------------------------------------------------\u001b[0m",
      "\u001b[0;31mNameError\u001b[0m                                 Traceback (most recent call last)",
      "\u001b[0;32m<ipython-input-8-468e0c88ae35>\u001b[0m in \u001b[0;36m<module>\u001b[0;34m\u001b[0m\n\u001b[1;32m     25\u001b[0m     \u001b[0mprint\u001b[0m\u001b[0;34m(\u001b[0m\u001b[0;34mf\"Mean:{np.mean(dists)} Median:{np.median(dists)} Range: {np.max(dists) - np.min(dists)} Stdev: {np.std(dists)}\"\u001b[0m\u001b[0;34m)\u001b[0m\u001b[0;34m\u001b[0m\u001b[0;34m\u001b[0m\u001b[0m\n\u001b[1;32m     26\u001b[0m     \u001b[0mplt\u001b[0m\u001b[0;34m.\u001b[0m\u001b[0mshow\u001b[0m\u001b[0;34m(\u001b[0m\u001b[0;34m)\u001b[0m\u001b[0;34m\u001b[0m\u001b[0;34m\u001b[0m\u001b[0m\n\u001b[0;32m---> 27\u001b[0;31m \u001b[0mplt\u001b[0m\u001b[0;34m.\u001b[0m\u001b[0mhist\u001b[0m\u001b[0;34m(\u001b[0m\u001b[0mdist_data\u001b[0m\u001b[0;34m.\u001b[0m\u001b[0mflatten\u001b[0m\u001b[0;34m(\u001b[0m\u001b[0;34m)\u001b[0m\u001b[0;34m)\u001b[0m\u001b[0;34m\u001b[0m\u001b[0;34m\u001b[0m\u001b[0m\n\u001b[0m",
      "\u001b[0;31mNameError\u001b[0m: name 'dist_data' is not defined"
     ]
    }
   ],
   "source": [
    "def plot_trial(trial):\n",
    "    objs = trial[\"objects\"]\n",
    "    fig, axs = plt.subplots(1, 2, figsize=(WIDTH * 2, LENGTH))\n",
    "    \n",
    "    prev = objs[0]\n",
    "    for curr in objs[1:]:\n",
    "        axs[0].plot([prev.x,curr.x], [prev.y,curr.y])\n",
    "        prev = curr\n",
    "\n",
    "    # plot the border in any case\n",
    "    axs[0].plot([0, WIDTH],[LENGTH/2, LENGTH/2], \"k-\")\n",
    "    axs[0].set_xlim(0, WIDTH)\n",
    "    axs[0].set_ylim(0, LENGTH)\n",
    "    \n",
    "    distances = distances_between_objects(objs)\n",
    "    axs[1].hist(distances)\n",
    "    \n",
    "    return distances\n",
    "\n",
    "trials_dists = []\n",
    "for trial in trials:\n",
    "    plot_trial(trial)\n",
    "    dists = distances_between_objects(trial[\"objects\"])\n",
    "    trials_dists.append(dists)\n",
    "    print(f\"Mean:{np.mean(dists)} Median:{np.median(dists)} Range: {np.max(dists) - np.min(dists)} Stdev: {np.std(dists)}\")\n",
    "    plt.show()\n",
    "plt.hist(dist_data.flatten())"
   ]
  }
 ],
 "metadata": {
  "kernelspec": {
   "display_name": "Python 3",
   "language": "python",
   "name": "python3"
  },
  "language_info": {
   "codemirror_mode": {
    "name": "ipython",
    "version": 3
   },
   "file_extension": ".py",
   "mimetype": "text/x-python",
   "name": "python",
   "nbconvert_exporter": "python",
   "pygments_lexer": "ipython3",
   "version": "3.8.5"
  }
 },
 "nbformat": 4,
 "nbformat_minor": 5
}
